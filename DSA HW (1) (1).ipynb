{
 "cells": [
  {
   "cell_type": "code",
   "execution_count": 1,
   "id": "f5357129-ab0a-4f81-a18f-f7975a7fc656",
   "metadata": {},
   "outputs": [
    {
     "name": "stdout",
     "output_type": "stream",
     "text": [
      "Move disk 1 from rod A to rod C\n",
      "Move disk 2 from rod A to rod B\n",
      "Move disk 1 from rod C to rod B\n",
      "Move disk 3 from rod A to rod C\n",
      "Move disk 1 from rod B to rod A\n",
      "Move disk 2 from rod B to rod C\n",
      "Move disk 1 from rod A to rod C\n"
     ]
    }
   ],
   "source": [
    "def TowerOfHanoi(n, from_rod, to_rod, aux_rod):\n",
    "    if n == 0:\n",
    "        return\n",
    "    TowerOfHanoi(n-1, from_rod, aux_rod, to_rod)\n",
    "    print(\"Move disk\", n, \"from rod\", from_rod, \"to rod\", to_rod)\n",
    "    TowerOfHanoi(n-1, aux_rod, to_rod, from_rod)\n",
    "N = 3\n",
    "TowerOfHanoi(N, 'A', 'C', 'B')"
   ]
  },
  {
   "cell_type": "code",
   "execution_count": 2,
   "id": "d667acc8-0196-4206-9b4e-1569f9bb3604",
   "metadata": {},
   "outputs": [
    {
     "name": "stdout",
     "output_type": "stream",
     "text": [
      "Sum of digits in 12345 is 15\n"
     ]
    }
   ],
   "source": [
    "def sum_of_digit( n ):\n",
    "    if n == 0:\n",
    "        return 0\n",
    "    return (n % 10 + sum_of_digit(int(n / 10)))\n",
    "num = 12345\n",
    "result = sum_of_digit(num)\n",
    "print(\"Sum of digits in\",num,\"is\", result)"
   ]
  },
  {
   "cell_type": "code",
   "execution_count": 3,
   "id": "69e2d2c2-59c6-4740-9b43-a7ebb132975a",
   "metadata": {},
   "outputs": [
    {
     "name": "stdout",
     "output_type": "stream",
     "text": [
      "GCD of 98 and 56 is 14\n"
     ]
    }
   ],
   "source": [
    "def gcd(a, b):\n",
    "    result = min(a, b)\n",
    "    while result:\n",
    "        if a % result == 0 and b % result == 0:\n",
    "            break\n",
    "        result -= 1\n",
    "    return result\n",
    "if __name__ == '__main__':\n",
    "    a = 98\n",
    "    b = 56\n",
    "    print(f\"GCD of {a} and {b} is {gcd(a, b)}\")"
   ]
  },
  {
   "cell_type": "code",
   "execution_count": 4,
   "id": "67d58195-243b-46a1-9271-c8911f3bf0bb",
   "metadata": {},
   "outputs": [
    {
     "name": "stdout",
     "output_type": "stream",
     "text": [
      "0 1 1 2 3 5 8 13 21 "
     ]
    }
   ],
   "source": [
    "def fib(n, prev1, prev2):\n",
    "    if n < 3:\n",
    "        return\n",
    "    fn = prev1 + prev2\n",
    "    prev2 = prev1\n",
    "    prev1 = fn\n",
    "    print(fn, end=\" \")\n",
    "    fib(n - 1, prev1, prev2)\n",
    "    \n",
    "def print_fib(n):\n",
    "    if n < 1:\n",
    "        print(\"Invalid number of terms\")\n",
    "    elif n == 1:\n",
    "        print(0)\n",
    "    elif n == 2:\n",
    "        print(\"0 1\")\n",
    "    else:\n",
    "        print(\"0 1\", end=\" \")\n",
    "        fib(n, 1, 0)\n",
    "if __name__ == \"__main__\":\n",
    "    n = 9\n",
    "    print_fib(n)"
   ]
  },
  {
   "cell_type": "code",
   "execution_count": 5,
   "id": "6301a711-617d-4c66-8653-7da7a5efe0e7",
   "metadata": {},
   "outputs": [
    {
     "name": "stdout",
     "output_type": "stream",
     "text": [
      "1010\n"
     ]
    }
   ],
   "source": [
    "def find( decimal_number ):\n",
    "    if decimal_number == 0:\n",
    "        return 0\n",
    "    else:\n",
    "        return (decimal_number % 2 + 10 *\n",
    "                find(int(decimal_number // 2)))\n",
    " \n",
    "# Driver Code\n",
    "decimal_number = 10\n",
    "print(find(decimal_number))"
   ]
  },
  {
   "cell_type": "code",
   "execution_count": 6,
   "id": "33325e72-b12c-4bec-a255-88d23f446b6e",
   "metadata": {},
   "outputs": [
    {
     "name": "stdout",
     "output_type": "stream",
     "text": [
      "count of zero is 6\n"
     ]
    }
   ],
   "source": [
    "class GFG :\n",
    "    @staticmethod\n",
    "    def  firstzeroindex( arr,  n) :\n",
    "        i = 0\n",
    "        while (i < n) :\n",
    "            if (arr[i] == 0) :\n",
    "                return i\n",
    "            i += 1\n",
    "        return -1\n",
    "    @staticmethod\n",
    "    def main( args) :\n",
    "        arr = [1, 1, 1, 1, 1, 0, 0, 0, 0, 0, 0]\n",
    "        n = len(arr)\n",
    "        x = GFG.firstzeroindex(arr, n)\n",
    "        if (x == -1) :\n",
    "            print(\"Count of zero is 0\")\n",
    "        else :\n",
    "            print(\"count of zero is \", end =\"\")\n",
    "            print(n - x)\n",
    "if __name__==\"__main__\":\n",
    "    GFG.main([])"
   ]
  },
  {
   "cell_type": "code",
   "execution_count": 7,
   "id": "911da56b-423d-4ff5-9798-a5d86f1e6c5c",
   "metadata": {},
   "outputs": [
    {
     "name": "stdout",
     "output_type": "stream",
     "text": [
      "15\n"
     ]
    }
   ],
   "source": [
    "def recurSum(n): \n",
    "    if n <= 1: \n",
    "        return n \n",
    "    return n + recurSum(n - 1) \n",
    "n = 5\n",
    "print(recurSum(n))"
   ]
  },
  {
   "cell_type": "code",
   "execution_count": 8,
   "id": "24ec5c1b-c3e5-4b06-83a3-acf89f523783",
   "metadata": {},
   "outputs": [
    {
     "name": "stdout",
     "output_type": "stream",
     "text": [
      "5\n"
     ]
    }
   ],
   "source": [
    "def countDigit(n):\n",
    "    if n == 0:\n",
    "        return 1\n",
    "    count = 0\n",
    "    while n != 0:\n",
    "        n = n // 10\n",
    "        count += 1\n",
    "    return count\n",
    "if __name__ == \"__main__\":\n",
    "  n = 58964\n",
    "  print(countDigit(n))"
   ]
  },
  {
   "cell_type": "code",
   "execution_count": 9,
   "id": "78d99319-f72c-473f-82e8-9f59a3ce8f65",
   "metadata": {},
   "outputs": [
    {
     "name": "stdout",
     "output_type": "stream",
     "text": [
      "5\n"
     ]
    }
   ],
   "source": [
    "def count_odd_digits(n):\n",
    "    if n < 10:\n",
    "        return 1 if n % 2 == 1 else 0\n",
    "    return (1 if (n % 10) % 2 == 1 else 0) + count_odd_digits(n // 10)\n",
    "num = 123456789\n",
    "print(count_odd_digits(num))"
   ]
  },
  {
   "cell_type": "code",
   "execution_count": 10,
   "id": "7b5df6ac-1eef-4fa1-8a68-0d79486045cb",
   "metadata": {},
   "outputs": [
    {
     "name": "stdout",
     "output_type": "stream",
     "text": [
      "16\n"
     ]
    }
   ],
   "source": [
    "str = \"Abhinav Abhilash\"\n",
    "def string_length(str) :\n",
    "    if str == '':\n",
    "        return 0\n",
    "    else :\n",
    "        return 1 + string_length(str[1:]) \n",
    "print (string_length(str))"
   ]
  },
  {
   "cell_type": "code",
   "execution_count": 11,
   "id": "67e10fac-e912-4a7b-80dc-ec3c7e502e26",
   "metadata": {},
   "outputs": [
    {
     "name": "stdout",
     "output_type": "stream",
     "text": [
      "hsalihbA vanihbA"
     ]
    }
   ],
   "source": [
    "def reverse(string):\n",
    "    if len(string) == 0:\n",
    "        return\n",
    "     \n",
    "    temp = string[0]\n",
    "    reverse(string[1:])\n",
    "    print(temp, end='')\n",
    "string = \"Abhinav Abhilash\"\n",
    "reverse(string)"
   ]
  },
  {
   "cell_type": "code",
   "execution_count": 12,
   "id": "44431dd6-df0c-4639-8c0b-37fe719bda8b",
   "metadata": {},
   "outputs": [
    {
     "name": "stdout",
     "output_type": "stream",
     "text": [
      "2\n"
     ]
    }
   ],
   "source": [
    "def isVowel(ch): \n",
    "    return ch.upper() in ['A', 'E', 'I', 'O', 'U'] \n",
    "def countVowels(str): \n",
    "    count = 0\n",
    "    for i in range(len(str)): \n",
    "        if isVowel(str[i]): \n",
    "            count += 1\n",
    "    return count \n",
    "str = 'abc de' \n",
    "print(countVowels(str))"
   ]
  },
  {
   "cell_type": "code",
   "execution_count": null,
   "id": "66dbf26d-732a-49b9-a433-595b66d3ef64",
   "metadata": {},
   "outputs": [],
   "source": []
  }
 ],
 "metadata": {
  "kernelspec": {
   "display_name": "Python 3 (ipykernel)",
   "language": "python",
   "name": "python3"
  },
  "language_info": {
   "codemirror_mode": {
    "name": "ipython",
    "version": 3
   },
   "file_extension": ".py",
   "mimetype": "text/x-python",
   "name": "python",
   "nbconvert_exporter": "python",
   "pygments_lexer": "ipython3",
   "version": "3.12.7"
  }
 },
 "nbformat": 4,
 "nbformat_minor": 5
}
